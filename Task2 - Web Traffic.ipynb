{
 "cells": [
  {
   "cell_type": "code",
   "execution_count": 29,
   "id": "7fa44936-76e5-42b1-8f3f-b97874cd3f0c",
   "metadata": {},
   "outputs": [],
   "source": [
    "import os\n",
    "os.environ['KMP_DUPLICATE_LIB_OK'] = 'True'"
   ]
  },
  {
   "cell_type": "code",
   "execution_count": 30,
   "id": "af3946e5-841e-4634-966e-b92a6b1168b2",
   "metadata": {},
   "outputs": [],
   "source": [
    "import pandas as pd\n",
    "import matplotlib.pyplot as plt\n",
    "import seaborn as sns"
   ]
  },
  {
   "cell_type": "code",
   "execution_count": 31,
   "id": "89e211c5-b2e6-4a74-9a7a-c8c6f6e95425",
   "metadata": {},
   "outputs": [],
   "source": [
    "df = pd.read_csv('traffic.csv')"
   ]
  },
  {
   "cell_type": "code",
   "execution_count": 32,
   "id": "353ecd7e-8ddb-4a6b-8091-c2549a772cc1",
   "metadata": {},
   "outputs": [
    {
     "data": {
      "text/html": [
       "<div>\n",
       "<style scoped>\n",
       "    .dataframe tbody tr th:only-of-type {\n",
       "        vertical-align: middle;\n",
       "    }\n",
       "\n",
       "    .dataframe tbody tr th {\n",
       "        vertical-align: top;\n",
       "    }\n",
       "\n",
       "    .dataframe thead th {\n",
       "        text-align: right;\n",
       "    }\n",
       "</style>\n",
       "<table border=\"1\" class=\"dataframe\">\n",
       "  <thead>\n",
       "    <tr style=\"text-align: right;\">\n",
       "      <th></th>\n",
       "      <th>event</th>\n",
       "      <th>date</th>\n",
       "      <th>country</th>\n",
       "      <th>city</th>\n",
       "      <th>artist</th>\n",
       "      <th>album</th>\n",
       "      <th>track</th>\n",
       "      <th>isrc</th>\n",
       "      <th>linkid</th>\n",
       "    </tr>\n",
       "  </thead>\n",
       "  <tbody>\n",
       "    <tr>\n",
       "      <th>0</th>\n",
       "      <td>click</td>\n",
       "      <td>2021-08-21</td>\n",
       "      <td>Saudi Arabia</td>\n",
       "      <td>Jeddah</td>\n",
       "      <td>Tesher</td>\n",
       "      <td>Jalebi Baby</td>\n",
       "      <td>Jalebi Baby</td>\n",
       "      <td>QZNWQ2070741</td>\n",
       "      <td>2d896d31-97b6-4869-967b-1c5fb9cd4bb8</td>\n",
       "    </tr>\n",
       "    <tr>\n",
       "      <th>1</th>\n",
       "      <td>click</td>\n",
       "      <td>2021-08-21</td>\n",
       "      <td>Saudi Arabia</td>\n",
       "      <td>Jeddah</td>\n",
       "      <td>Tesher</td>\n",
       "      <td>Jalebi Baby</td>\n",
       "      <td>Jalebi Baby</td>\n",
       "      <td>QZNWQ2070741</td>\n",
       "      <td>2d896d31-97b6-4869-967b-1c5fb9cd4bb8</td>\n",
       "    </tr>\n",
       "    <tr>\n",
       "      <th>2</th>\n",
       "      <td>click</td>\n",
       "      <td>2021-08-21</td>\n",
       "      <td>India</td>\n",
       "      <td>Ludhiana</td>\n",
       "      <td>Reyanna Maria</td>\n",
       "      <td>So Pretty</td>\n",
       "      <td>So Pretty</td>\n",
       "      <td>USUM72100871</td>\n",
       "      <td>23199824-9cf5-4b98-942a-34965c3b0cc2</td>\n",
       "    </tr>\n",
       "    <tr>\n",
       "      <th>3</th>\n",
       "      <td>click</td>\n",
       "      <td>2021-08-21</td>\n",
       "      <td>France</td>\n",
       "      <td>Unknown</td>\n",
       "      <td>Simone &amp; Simaria, Sebastian Yatra</td>\n",
       "      <td>No Llores Más</td>\n",
       "      <td>No Llores Más</td>\n",
       "      <td>BRUM72003904</td>\n",
       "      <td>35573248-4e49-47c7-af80-08a960fa74cd</td>\n",
       "    </tr>\n",
       "    <tr>\n",
       "      <th>4</th>\n",
       "      <td>click</td>\n",
       "      <td>2021-08-21</td>\n",
       "      <td>Maldives</td>\n",
       "      <td>Malé</td>\n",
       "      <td>Tesher</td>\n",
       "      <td>Jalebi Baby</td>\n",
       "      <td>Jalebi Baby</td>\n",
       "      <td>QZNWQ2070741</td>\n",
       "      <td>2d896d31-97b6-4869-967b-1c5fb9cd4bb8</td>\n",
       "    </tr>\n",
       "  </tbody>\n",
       "</table>\n",
       "</div>"
      ],
      "text/plain": [
       "   event        date       country      city  \\\n",
       "0  click  2021-08-21  Saudi Arabia    Jeddah   \n",
       "1  click  2021-08-21  Saudi Arabia    Jeddah   \n",
       "2  click  2021-08-21         India  Ludhiana   \n",
       "3  click  2021-08-21        France   Unknown   \n",
       "4  click  2021-08-21      Maldives      Malé   \n",
       "\n",
       "                              artist          album          track  \\\n",
       "0                             Tesher    Jalebi Baby    Jalebi Baby   \n",
       "1                             Tesher    Jalebi Baby    Jalebi Baby   \n",
       "2                      Reyanna Maria      So Pretty      So Pretty   \n",
       "3  Simone & Simaria, Sebastian Yatra  No Llores Más  No Llores Más   \n",
       "4                             Tesher    Jalebi Baby    Jalebi Baby   \n",
       "\n",
       "           isrc                                linkid  \n",
       "0  QZNWQ2070741  2d896d31-97b6-4869-967b-1c5fb9cd4bb8  \n",
       "1  QZNWQ2070741  2d896d31-97b6-4869-967b-1c5fb9cd4bb8  \n",
       "2  USUM72100871  23199824-9cf5-4b98-942a-34965c3b0cc2  \n",
       "3  BRUM72003904  35573248-4e49-47c7-af80-08a960fa74cd  \n",
       "4  QZNWQ2070741  2d896d31-97b6-4869-967b-1c5fb9cd4bb8  "
      ]
     },
     "execution_count": 32,
     "metadata": {},
     "output_type": "execute_result"
    }
   ],
   "source": [
    "df.head()"
   ]
  },
  {
   "cell_type": "code",
   "execution_count": 33,
   "id": "6b2ae383-cf86-4e5b-a10a-45cf72e20673",
   "metadata": {},
   "outputs": [
    {
     "name": "stdout",
     "output_type": "stream",
     "text": [
      "<class 'pandas.core.frame.DataFrame'>\n",
      "RangeIndex: 226278 entries, 0 to 226277\n",
      "Data columns (total 9 columns):\n",
      " #   Column   Non-Null Count   Dtype \n",
      "---  ------   --------------   ----- \n",
      " 0   event    226278 non-null  object\n",
      " 1   date     226278 non-null  object\n",
      " 2   country  226267 non-null  object\n",
      " 3   city     226267 non-null  object\n",
      " 4   artist   226241 non-null  object\n",
      " 5   album    226273 non-null  object\n",
      " 6   track    226273 non-null  object\n",
      " 7   isrc     219157 non-null  object\n",
      " 8   linkid   226278 non-null  object\n",
      "dtypes: object(9)\n",
      "memory usage: 15.5+ MB\n"
     ]
    }
   ],
   "source": [
    "df.info()"
   ]
  },
  {
   "cell_type": "code",
   "execution_count": 34,
   "id": "561cf567-5b5d-483c-9d56-bb9bbf8935c3",
   "metadata": {},
   "outputs": [
    {
     "name": "stdout",
     "output_type": "stream",
     "text": [
      "<class 'pandas.core.frame.DataFrame'>\n",
      "RangeIndex: 226278 entries, 0 to 226277\n",
      "Data columns (total 9 columns):\n",
      " #   Column   Non-Null Count   Dtype         \n",
      "---  ------   --------------   -----         \n",
      " 0   event    226278 non-null  object        \n",
      " 1   date     226278 non-null  datetime64[ns]\n",
      " 2   country  226267 non-null  object        \n",
      " 3   city     226267 non-null  object        \n",
      " 4   artist   226241 non-null  object        \n",
      " 5   album    226273 non-null  object        \n",
      " 6   track    226273 non-null  object        \n",
      " 7   isrc     219157 non-null  object        \n",
      " 8   linkid   226278 non-null  object        \n",
      "dtypes: datetime64[ns](1), object(8)\n",
      "memory usage: 15.5+ MB\n"
     ]
    }
   ],
   "source": [
    "# Convert 'date' column to datetime format\n",
    "df['date'] = pd.to_datetime(df['date'])\n",
    "df.info()"
   ]
  },
  {
   "cell_type": "code",
   "execution_count": 35,
   "id": "a7cea2e9-db37-47ed-8b0d-aeadb6f0f83d",
   "metadata": {},
   "outputs": [
    {
     "data": {
      "text/plain": [
       "(226278, 9)"
      ]
     },
     "execution_count": 35,
     "metadata": {},
     "output_type": "execute_result"
    }
   ],
   "source": [
    "df.shape"
   ]
  },
  {
   "cell_type": "code",
   "execution_count": 36,
   "id": "c891c874-2b80-47ee-b812-f9b7fb23a701",
   "metadata": {},
   "outputs": [
    {
     "data": {
      "text/plain": [
       "event         0\n",
       "date          0\n",
       "country      11\n",
       "city         11\n",
       "artist       37\n",
       "album         5\n",
       "track         5\n",
       "isrc       7121\n",
       "linkid        0\n",
       "dtype: int64"
      ]
     },
     "execution_count": 36,
     "metadata": {},
     "output_type": "execute_result"
    }
   ],
   "source": [
    "df.isnull().sum()"
   ]
  },
  {
   "cell_type": "code",
   "execution_count": 37,
   "id": "f6f12c05-6ca7-4198-a940-4610a0192b76",
   "metadata": {},
   "outputs": [
    {
     "data": {
      "text/plain": [
       "event      0\n",
       "date       0\n",
       "country    0\n",
       "city       0\n",
       "artist     0\n",
       "album      0\n",
       "track      0\n",
       "isrc       0\n",
       "linkid     0\n",
       "dtype: int64"
      ]
     },
     "execution_count": 37,
     "metadata": {},
     "output_type": "execute_result"
    }
   ],
   "source": [
    "df = df.dropna(subset=['country', 'city', 'isrc'])\n",
    "df.isnull().sum()"
   ]
  },
  {
   "cell_type": "code",
   "execution_count": 38,
   "id": "5101c4a7-73e1-44cf-89e8-f2838281bf2f",
   "metadata": {},
   "outputs": [
    {
     "data": {
      "text/plain": [
       "(219149, 9)"
      ]
     },
     "execution_count": 38,
     "metadata": {},
     "output_type": "execute_result"
    }
   ],
   "source": [
    "df.shape"
   ]
  },
  {
   "cell_type": "code",
   "execution_count": 39,
   "id": "3f0d9e73-881c-4892-afdf-b2468a383278",
   "metadata": {},
   "outputs": [
    {
     "data": {
      "text/plain": [
       "event\n",
       "pageview    137115\n",
       "click        53504\n",
       "preview      28530\n",
       "Name: count, dtype: int64"
      ]
     },
     "execution_count": 39,
     "metadata": {},
     "output_type": "execute_result"
    }
   ],
   "source": [
    "df['event'].value_counts()"
   ]
  },
  {
   "cell_type": "code",
   "execution_count": 40,
   "id": "0aaddd86-eb25-4011-9995-4bd7f5733bd8",
   "metadata": {},
   "outputs": [
    {
     "name": "stdout",
     "output_type": "stream",
     "text": [
      "Total Pageview Events: 137115\n"
     ]
    }
   ],
   "source": [
    "# Total number of 'pageviews' events\n",
    "total_pageviews = df[df['event'] == 'pageview'].shape[0]\n",
    "print(f'Total Pageview Events: {total_pageviews}')"
   ]
  },
  {
   "cell_type": "code",
   "execution_count": 41,
   "id": "47a1d489-f496-4cbd-9734-c7e831ecc93e",
   "metadata": {},
   "outputs": [
    {
     "name": "stdout",
     "output_type": "stream",
     "text": [
      "Average Daily Pageview Events: 19587.86\n"
     ]
    }
   ],
   "source": [
    "# average number of pageview events per day\n",
    "daily_pageviews = df[df['event'] == 'pageview'].groupby('date').size()\n",
    "average_daily_pageviews = daily_pageviews.mean()\n",
    "print(f'Average Daily Pageview Events: {average_daily_pageviews:.2f}')"
   ]
  },
  {
   "cell_type": "code",
   "execution_count": 42,
   "id": "151c0e5c-2d78-4fac-af69-a293c0c25674",
   "metadata": {},
   "outputs": [
    {
     "name": "stdout",
     "output_type": "stream",
     "text": [
      "event counts:\n",
      "event\n",
      "pageview    137115\n",
      "click        53504\n",
      "preview      28530\n",
      "Name: count, dtype: int64\n"
     ]
    }
   ],
   "source": [
    "# Analysis of Other Events\n",
    "event_counts = df['event'].value_counts()\n",
    "print('event counts:')\n",
    "print(event_counts)"
   ]
  },
  {
   "cell_type": "code",
   "execution_count": 43,
   "id": "4a37e04e-b6ab-4ed4-a0da-4637791b3513",
   "metadata": {},
   "outputs": [
    {
     "data": {
      "image/png": "[encoded data removed]",
      "text/plain": [
       "<Figure size 1000x600 with 1 Axes>"
      ]
     },
     "metadata": {},
     "output_type": "display_data"
    }
   ],
   "source": [
    "# visualization\n",
    "plt.figure(figsize=(10, 6))\n",
    "sns.barplot(x=event_counts.index, y=event_counts.values, palette='viridis')\n",
    "plt.title('Distribution of Events')\n",
    "plt.xlabel('Event Type')\n",
    "plt.ylabel('Count')\n",
    "plt.xticks(rotation=45)\n",
    "plt.tight_layout()\n",
    "plt.show()"
   ]
  },
  {
   "cell_type": "code",
   "execution_count": 44,
   "id": "8d287236-bbac-45f0-a1de-6ac544262dc3",
   "metadata": {},
   "outputs": [
    {
     "name": "stdout",
     "output_type": "stream",
     "text": [
      "country\n",
      "Saudi Arabia                28597\n",
      "India                       27285\n",
      "United States               17311\n",
      "France                       9658\n",
      "Iraq                         4830\n",
      "                            ...  \n",
      "Guinea-Bissau                   1\n",
      "Central African Republic        1\n",
      "Guernsey                        1\n",
      "Sint Maarten                    1\n",
      "Saint Martin                    1\n",
      "Name: count, Length: 211, dtype: int64\n"
     ]
    }
   ],
   "source": [
    "# Geographical Distribution\n",
    "country_distribution = df[df['event'] == 'pageview']['country'].value_counts()\n",
    "print(country_distribution)"
   ]
  },
  {
   "cell_type": "code",
   "execution_count": null,
   "id": "14bad5ce-f23f-4c48-be52-ba3430e6dc22",
   "metadata": {},
   "outputs": [],
   "source": [
    "#visualization\n",
    "plt.figure(figsize=(12, 6))\n",
    "sns.barplot(x=country_distribution.index, y=country_distribution.values, palette='plasma')\n",
    "plt.title('Geographical Distribution of Pageviews')\n",
    "plt.xlabel('Country')\n",
    "plt.ylabel('Number of Pageviews')\n",
    "plt.xticks(rotation=45)\n",
    "plt.tight_layout()\n",
    "plt.show()"
   ]
  },
  {
   "cell_type": "code",
   "execution_count": null,
   "id": "e598344f-25de-464b-9454-fae0c56660c1",
   "metadata": {},
   "outputs": [],
   "source": [
    "# Click-Through Rate (CTR) Analysis\n",
    "total_clicks = df[df['event'] == 'click'].shape[0]\n",
    "ctr = total_clicks / total_pageviews if total_pageviews > 0 else 0\n",
    "print(f'Overall Click-Through Rate (CTR): {ctr:.2f}')"
   ]
  },
  {
   "cell_type": "code",
   "execution_count": null,
   "id": "e35bcb34-62c3-4046-b4ab-f79a0147be23",
   "metadata": {},
   "outputs": [],
   "source": [
    "# How does the CTR vary across different links\n",
    "ctr_by_link = df[df['event'] == 'click'].groupby('linkid').size() / df[df['event'] == 'pageview'].groupby('linkid').size()\n",
    "print(ctr_by_link)"
   ]
  },
  {
   "cell_type": "code",
   "execution_count": null,
   "id": "527a0144-742f-4227-96e3-803bf2748a9a",
   "metadata": {},
   "outputs": [],
   "source": [
    "# Correlation Analysis\n",
    "clicks_per_link = df[df['event'] == 'click'].groupby('linkid').size()\n",
    "pageviews_per_link = df[df['event'] == 'pageview'].groupby('linkid').size()\n",
    "\n",
    "# Create a DataFrame to analyze the correlation\n",
    "correlation_data = pd.DataFrame({'clicks': clicks_per_link, 'pageviews': pageviews_per_link}).fillna(0)\n",
    "\n",
    "# Calculate correlation\n",
    "correlation = correlation_data['clicks'].corr(correlation_data['pageviews'])\n",
    "print(f'Correlation between Clicks and Pageviews: {correlation}')\n",
    "\n",
    "# Perform a Pearson correlation test\n",
    "from scipy.stats import pearsonr\n",
    "\n",
    "pearson_corr, p_value = pearsonr(correlation_data['clicks'], correlation_data['pageviews'])\n",
    "print(f'Pearson Correlation: {pearson_corr}, p-value: {p_value}')"
   ]
  },
  {
   "cell_type": "markdown",
   "id": "5583eacb-8817-4250-a1fc-d74c3e679cfa",
   "metadata": {},
   "source": [
    "very strong positive correlation indicating a nearly perfect positive linear relationship between the number of clicks and pageviews. This suggests that as the number of clicks increases, the number of pageviews tends to increase as well.\n",
    "\r\n",
    "A p-value of 0 indicates that the correlation is statistically significant. This means that the likelihood of observing such a strong correlation by chance is extremely low.\r\n",
    "This relationship can be leveraged to improve click-through rates (CT)\r\n"
   ]
  },
  {
   "cell_type": "code",
   "execution_count": null,
   "id": "b2ba4ba3-3021-4f0e-b5fe-9d119bb2bbea",
   "metadata": {},
   "outputs": [],
   "source": [
    "# Linear relationships using regression analysis\n",
    "import statsmodels.api as sm\n",
    "X = sm.add_constant(correlation_data['pageviews'])\n",
    "model = sm.OLS(correlation_data['clicks'], X).fit()\n",
    "print(model.summary())"
   ]
  },
  {
   "cell_type": "markdown",
   "id": "eebb40e8-626d-46b2-857a-920b093c41a1",
   "metadata": {},
   "source": [
    "R-squared (0.988): indicates that approximately 98.8% of the variance in clicks can be explained by pageviews. This is an excellent fit for the model.\n",
    "pageviews coefficient (0.3792): For every additional pageview, the model predicts an increase of about 0.379 clicks. This suggests a positive relationship between pageviews and clicks."
   ]
  },
  {
   "cell_type": "code",
   "execution_count": 28,
   "id": "8027e034-67bf-44c2-a554-9e232b2faa73",
   "metadata": {},
   "outputs": [
    {
     "data": {
      "image/png": "[encoded data removed]",
      "text/plain": [
       "<Figure size 1000x600 with 1 Axes>"
      ]
     },
     "metadata": {},
     "output_type": "display_data"
    }
   ],
   "source": [
    "#Scatter Plot with Regression Line\n",
    "plt.figure(figsize=(10, 6))\n",
    "sns.scatterplot(x='pageviews', y='clicks', data=correlation_data, alpha=0.6)\n",
    "sns.regplot(x='pageviews', y='clicks', data=correlation_data, scatter=False, color='red')\n",
    "plt.title('Scatter Plot of Clicks vs. Pageviews')\n",
    "plt.xlabel('Pageviews')\n",
    "plt.ylabel('Clicks')\n",
    "plt.tight_layout()\n",
    "plt.show()"
   ]
  },
  {
   "cell_type": "code",
   "execution_count": 21,
   "id": "20f02c3d-50b8-46b7-a0ac-6898d2355b58",
   "metadata": {},
   "outputs": [
    {
     "name": "stdout",
     "output_type": "stream",
     "text": [
      "Chi-Square Statistic: 6390.683279716768, p-value: 0.0\n"
     ]
    }
   ],
   "source": [
    "# Categorical relationships using Chi-square tests\n",
    "from scipy.stats import chi2_contingency\n",
    "contingency_table = pd.crosstab(df['event'], df['linkid'])\n",
    "chi2, p, _, _ = chi2_contingency(contingency_table)\n",
    "print(f'Chi-Square Statistic: {chi2}, p-value: {p}')"
   ]
  },
  {
   "cell_type": "markdown",
   "id": "323c7fe6-a8c5-4a56-96c0-522f6cfae923",
   "metadata": {},
   "source": [
    "Chi-Square Statistic (6390.68) indicates the extent of deviation between the observed and expected frequencies in the contingency table, this very high Chi-Square value suggests a significant difference in the distribution of events across categories."
   ]
  }
 ],
 "metadata": {
  "kernelspec": {
   "display_name": "Python 3 (ipykernel)",
   "language": "python",
   "name": "python3"
  },
  "language_info": {
   "codemirror_mode": {
    "name": "ipython",
    "version": 3
   },
   "file_extension": ".py",
   "mimetype": "text/x-python",
   "name": "python",
   "nbconvert_exporter": "python",
   "pygments_lexer": "ipython3",
   "version": "3.11.7"
  }
 },
 "nbformat": 4,
 "nbformat_minor": 5
}
